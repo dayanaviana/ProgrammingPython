{
 "cells": [
  {
   "cell_type": "markdown",
   "metadata": {},
   "source": [
    "# Chapter 2 - Data Preparation Basics\n",
    "## Segment 2 - Treating missing values"
   ]
  },
  {
   "cell_type": "code",
   "execution_count": 1,
   "metadata": {},
   "outputs": [],
   "source": [
    "import numpy as np\n",
    "import pandas as pd \n",
    "\n",
    "from pandas import Series, DataFrame"
   ]
  },
  {
   "cell_type": "markdown",
   "metadata": {},
   "source": [
    "### Figuring out what data is missing"
   ]
  },
  {
   "cell_type": "code",
   "execution_count": 2,
   "metadata": {},
   "outputs": [
    {
     "output_type": "execute_result",
     "data": {
      "text/plain": "0    row1\n1    row2\n2     NaN\n3    row4\n4    row5\n5    row6\n6     NaN\n7    row8\ndtype: object"
     },
     "metadata": {},
     "execution_count": 2
    }
   ],
   "source": [
    "missing = np.nan\n",
    "series_obj = Series(['row1','row2',missing,'row4','row5','row6',missing, 'row8',])\n",
    "series_obj"
   ]
  },
  {
   "cell_type": "code",
   "execution_count": 3,
   "metadata": {},
   "outputs": [
    {
     "output_type": "execute_result",
     "data": {
      "text/plain": "0    False\n1    False\n2     True\n3    False\n4    False\n5    False\n6     True\n7    False\ndtype: bool"
     },
     "metadata": {},
     "execution_count": 3
    }
   ],
   "source": [
    "series_obj.isnull()"
   ]
  },
  {
   "cell_type": "markdown",
   "metadata": {},
   "source": [
    "### Filling in for missing values"
   ]
  },
  {
   "cell_type": "code",
   "execution_count": 5,
   "metadata": {},
   "outputs": [
    {
     "output_type": "execute_result",
     "data": {
      "text/plain": "          0         1         2         3         4         5\n0  0.228273  1.026890 -0.839585 -0.591182 -0.956888 -0.222326\n1 -0.619915  1.837905 -2.053231  0.868583 -0.920734 -0.232312\n2  2.152957 -1.334661  0.076380 -1.246089  1.202272 -1.049942\n3  1.056610 -0.419678  2.294842 -2.594487  2.822756  0.680889\n4 -1.577693 -1.976254  0.533340 -0.290870 -0.513520  1.982626\n5  0.226001 -1.839905  1.607671  0.388292  0.399732  0.405477",
      "text/html": "<div>\n<style scoped>\n    .dataframe tbody tr th:only-of-type {\n        vertical-align: middle;\n    }\n\n    .dataframe tbody tr th {\n        vertical-align: top;\n    }\n\n    .dataframe thead th {\n        text-align: right;\n    }\n</style>\n<table border=\"1\" class=\"dataframe\">\n  <thead>\n    <tr style=\"text-align: right;\">\n      <th></th>\n      <th>0</th>\n      <th>1</th>\n      <th>2</th>\n      <th>3</th>\n      <th>4</th>\n      <th>5</th>\n    </tr>\n  </thead>\n  <tbody>\n    <tr>\n      <th>0</th>\n      <td>0.228273</td>\n      <td>1.026890</td>\n      <td>-0.839585</td>\n      <td>-0.591182</td>\n      <td>-0.956888</td>\n      <td>-0.222326</td>\n    </tr>\n    <tr>\n      <th>1</th>\n      <td>-0.619915</td>\n      <td>1.837905</td>\n      <td>-2.053231</td>\n      <td>0.868583</td>\n      <td>-0.920734</td>\n      <td>-0.232312</td>\n    </tr>\n    <tr>\n      <th>2</th>\n      <td>2.152957</td>\n      <td>-1.334661</td>\n      <td>0.076380</td>\n      <td>-1.246089</td>\n      <td>1.202272</td>\n      <td>-1.049942</td>\n    </tr>\n    <tr>\n      <th>3</th>\n      <td>1.056610</td>\n      <td>-0.419678</td>\n      <td>2.294842</td>\n      <td>-2.594487</td>\n      <td>2.822756</td>\n      <td>0.680889</td>\n    </tr>\n    <tr>\n      <th>4</th>\n      <td>-1.577693</td>\n      <td>-1.976254</td>\n      <td>0.533340</td>\n      <td>-0.290870</td>\n      <td>-0.513520</td>\n      <td>1.982626</td>\n    </tr>\n    <tr>\n      <th>5</th>\n      <td>0.226001</td>\n      <td>-1.839905</td>\n      <td>1.607671</td>\n      <td>0.388292</td>\n      <td>0.399732</td>\n      <td>0.405477</td>\n    </tr>\n  </tbody>\n</table>\n</div>"
     },
     "metadata": {},
     "execution_count": 5
    }
   ],
   "source": [
    "np.random.seed(25)\n",
    "df_obj = DataFrame(np.random.randn(36).reshape(6,6))\n",
    "df_obj"
   ]
  },
  {
   "cell_type": "code",
   "execution_count": 6,
   "metadata": {
    "scrolled": true
   },
   "outputs": [
    {
     "output_type": "execute_result",
     "data": {
      "text/plain": "          0         1         2         3         4         5\n0  0.228273  1.026890 -0.839585 -0.591182 -0.956888 -0.222326\n1 -0.619915  1.837905 -2.053231  0.868583 -0.920734       NaN\n2  2.152957 -1.334661  0.076380 -1.246089  1.202272       NaN\n3       NaN -0.419678  2.294842 -2.594487  2.822756       NaN\n4       NaN -1.976254  0.533340 -0.290870 -0.513520       NaN\n5       NaN -1.839905  1.607671  0.388292  0.399732  0.405477",
      "text/html": "<div>\n<style scoped>\n    .dataframe tbody tr th:only-of-type {\n        vertical-align: middle;\n    }\n\n    .dataframe tbody tr th {\n        vertical-align: top;\n    }\n\n    .dataframe thead th {\n        text-align: right;\n    }\n</style>\n<table border=\"1\" class=\"dataframe\">\n  <thead>\n    <tr style=\"text-align: right;\">\n      <th></th>\n      <th>0</th>\n      <th>1</th>\n      <th>2</th>\n      <th>3</th>\n      <th>4</th>\n      <th>5</th>\n    </tr>\n  </thead>\n  <tbody>\n    <tr>\n      <th>0</th>\n      <td>0.228273</td>\n      <td>1.026890</td>\n      <td>-0.839585</td>\n      <td>-0.591182</td>\n      <td>-0.956888</td>\n      <td>-0.222326</td>\n    </tr>\n    <tr>\n      <th>1</th>\n      <td>-0.619915</td>\n      <td>1.837905</td>\n      <td>-2.053231</td>\n      <td>0.868583</td>\n      <td>-0.920734</td>\n      <td>NaN</td>\n    </tr>\n    <tr>\n      <th>2</th>\n      <td>2.152957</td>\n      <td>-1.334661</td>\n      <td>0.076380</td>\n      <td>-1.246089</td>\n      <td>1.202272</td>\n      <td>NaN</td>\n    </tr>\n    <tr>\n      <th>3</th>\n      <td>NaN</td>\n      <td>-0.419678</td>\n      <td>2.294842</td>\n      <td>-2.594487</td>\n      <td>2.822756</td>\n      <td>NaN</td>\n    </tr>\n    <tr>\n      <th>4</th>\n      <td>NaN</td>\n      <td>-1.976254</td>\n      <td>0.533340</td>\n      <td>-0.290870</td>\n      <td>-0.513520</td>\n      <td>NaN</td>\n    </tr>\n    <tr>\n      <th>5</th>\n      <td>NaN</td>\n      <td>-1.839905</td>\n      <td>1.607671</td>\n      <td>0.388292</td>\n      <td>0.399732</td>\n      <td>0.405477</td>\n    </tr>\n  </tbody>\n</table>\n</div>"
     },
     "metadata": {},
     "execution_count": 6
    }
   ],
   "source": [
    "df_obj.loc[3:5,0] = missing\n",
    "df_obj.loc[1:4,5] = missing\n",
    "df_obj"
   ]
  },
  {
   "cell_type": "code",
   "execution_count": 7,
   "metadata": {},
   "outputs": [
    {
     "output_type": "execute_result",
     "data": {
      "text/plain": "          0         1         2         3         4         5\n0  0.228273  1.026890 -0.839585 -0.591182 -0.956888 -0.222326\n1 -0.619915  1.837905 -2.053231  0.868583 -0.920734  0.000000\n2  2.152957 -1.334661  0.076380 -1.246089  1.202272  0.000000\n3  0.000000 -0.419678  2.294842 -2.594487  2.822756  0.000000\n4  0.000000 -1.976254  0.533340 -0.290870 -0.513520  0.000000\n5  0.000000 -1.839905  1.607671  0.388292  0.399732  0.405477",
      "text/html": "<div>\n<style scoped>\n    .dataframe tbody tr th:only-of-type {\n        vertical-align: middle;\n    }\n\n    .dataframe tbody tr th {\n        vertical-align: top;\n    }\n\n    .dataframe thead th {\n        text-align: right;\n    }\n</style>\n<table border=\"1\" class=\"dataframe\">\n  <thead>\n    <tr style=\"text-align: right;\">\n      <th></th>\n      <th>0</th>\n      <th>1</th>\n      <th>2</th>\n      <th>3</th>\n      <th>4</th>\n      <th>5</th>\n    </tr>\n  </thead>\n  <tbody>\n    <tr>\n      <th>0</th>\n      <td>0.228273</td>\n      <td>1.026890</td>\n      <td>-0.839585</td>\n      <td>-0.591182</td>\n      <td>-0.956888</td>\n      <td>-0.222326</td>\n    </tr>\n    <tr>\n      <th>1</th>\n      <td>-0.619915</td>\n      <td>1.837905</td>\n      <td>-2.053231</td>\n      <td>0.868583</td>\n      <td>-0.920734</td>\n      <td>0.000000</td>\n    </tr>\n    <tr>\n      <th>2</th>\n      <td>2.152957</td>\n      <td>-1.334661</td>\n      <td>0.076380</td>\n      <td>-1.246089</td>\n      <td>1.202272</td>\n      <td>0.000000</td>\n    </tr>\n    <tr>\n      <th>3</th>\n      <td>0.000000</td>\n      <td>-0.419678</td>\n      <td>2.294842</td>\n      <td>-2.594487</td>\n      <td>2.822756</td>\n      <td>0.000000</td>\n    </tr>\n    <tr>\n      <th>4</th>\n      <td>0.000000</td>\n      <td>-1.976254</td>\n      <td>0.533340</td>\n      <td>-0.290870</td>\n      <td>-0.513520</td>\n      <td>0.000000</td>\n    </tr>\n    <tr>\n      <th>5</th>\n      <td>0.000000</td>\n      <td>-1.839905</td>\n      <td>1.607671</td>\n      <td>0.388292</td>\n      <td>0.399732</td>\n      <td>0.405477</td>\n    </tr>\n  </tbody>\n</table>\n</div>"
     },
     "metadata": {},
     "execution_count": 7
    }
   ],
   "source": [
    "filled_df = df_obj.fillna(0)\n",
    "filled_df"
   ]
  },
  {
   "cell_type": "code",
   "execution_count": 8,
   "metadata": {},
   "outputs": [
    {
     "output_type": "execute_result",
     "data": {
      "text/plain": "          0         1         2         3         4         5\n0  0.228273  1.026890 -0.839585 -0.591182 -0.956888 -0.222326\n1 -0.619915  1.837905 -2.053231  0.868583 -0.920734  1.250000\n2  2.152957 -1.334661  0.076380 -1.246089  1.202272  1.250000\n3  0.100000 -0.419678  2.294842 -2.594487  2.822756  1.250000\n4  0.100000 -1.976254  0.533340 -0.290870 -0.513520  1.250000\n5  0.100000 -1.839905  1.607671  0.388292  0.399732  0.405477",
      "text/html": "<div>\n<style scoped>\n    .dataframe tbody tr th:only-of-type {\n        vertical-align: middle;\n    }\n\n    .dataframe tbody tr th {\n        vertical-align: top;\n    }\n\n    .dataframe thead th {\n        text-align: right;\n    }\n</style>\n<table border=\"1\" class=\"dataframe\">\n  <thead>\n    <tr style=\"text-align: right;\">\n      <th></th>\n      <th>0</th>\n      <th>1</th>\n      <th>2</th>\n      <th>3</th>\n      <th>4</th>\n      <th>5</th>\n    </tr>\n  </thead>\n  <tbody>\n    <tr>\n      <th>0</th>\n      <td>0.228273</td>\n      <td>1.026890</td>\n      <td>-0.839585</td>\n      <td>-0.591182</td>\n      <td>-0.956888</td>\n      <td>-0.222326</td>\n    </tr>\n    <tr>\n      <th>1</th>\n      <td>-0.619915</td>\n      <td>1.837905</td>\n      <td>-2.053231</td>\n      <td>0.868583</td>\n      <td>-0.920734</td>\n      <td>1.250000</td>\n    </tr>\n    <tr>\n      <th>2</th>\n      <td>2.152957</td>\n      <td>-1.334661</td>\n      <td>0.076380</td>\n      <td>-1.246089</td>\n      <td>1.202272</td>\n      <td>1.250000</td>\n    </tr>\n    <tr>\n      <th>3</th>\n      <td>0.100000</td>\n      <td>-0.419678</td>\n      <td>2.294842</td>\n      <td>-2.594487</td>\n      <td>2.822756</td>\n      <td>1.250000</td>\n    </tr>\n    <tr>\n      <th>4</th>\n      <td>0.100000</td>\n      <td>-1.976254</td>\n      <td>0.533340</td>\n      <td>-0.290870</td>\n      <td>-0.513520</td>\n      <td>1.250000</td>\n    </tr>\n    <tr>\n      <th>5</th>\n      <td>0.100000</td>\n      <td>-1.839905</td>\n      <td>1.607671</td>\n      <td>0.388292</td>\n      <td>0.399732</td>\n      <td>0.405477</td>\n    </tr>\n  </tbody>\n</table>\n</div>"
     },
     "metadata": {},
     "execution_count": 8
    }
   ],
   "source": [
    "filled_df = df_obj.fillna({0:0.1, 5:1.25})\n",
    "filled_df"
   ]
  },
  {
   "cell_type": "code",
   "execution_count": 10,
   "metadata": {
    "scrolled": true
   },
   "outputs": [
    {
     "output_type": "execute_result",
     "data": {
      "text/plain": "          0         1         2         3         4         5\n0  0.228273  1.026890 -0.839585 -0.591182 -0.956888 -0.222326\n1 -0.619915  1.837905 -2.053231  0.868583 -0.920734 -0.222326\n2  2.152957 -1.334661  0.076380 -1.246089  1.202272 -0.222326\n3  2.152957 -0.419678  2.294842 -2.594487  2.822756 -0.222326\n4  2.152957 -1.976254  0.533340 -0.290870 -0.513520 -0.222326\n5  2.152957 -1.839905  1.607671  0.388292  0.399732  0.405477",
      "text/html": "<div>\n<style scoped>\n    .dataframe tbody tr th:only-of-type {\n        vertical-align: middle;\n    }\n\n    .dataframe tbody tr th {\n        vertical-align: top;\n    }\n\n    .dataframe thead th {\n        text-align: right;\n    }\n</style>\n<table border=\"1\" class=\"dataframe\">\n  <thead>\n    <tr style=\"text-align: right;\">\n      <th></th>\n      <th>0</th>\n      <th>1</th>\n      <th>2</th>\n      <th>3</th>\n      <th>4</th>\n      <th>5</th>\n    </tr>\n  </thead>\n  <tbody>\n    <tr>\n      <th>0</th>\n      <td>0.228273</td>\n      <td>1.026890</td>\n      <td>-0.839585</td>\n      <td>-0.591182</td>\n      <td>-0.956888</td>\n      <td>-0.222326</td>\n    </tr>\n    <tr>\n      <th>1</th>\n      <td>-0.619915</td>\n      <td>1.837905</td>\n      <td>-2.053231</td>\n      <td>0.868583</td>\n      <td>-0.920734</td>\n      <td>-0.222326</td>\n    </tr>\n    <tr>\n      <th>2</th>\n      <td>2.152957</td>\n      <td>-1.334661</td>\n      <td>0.076380</td>\n      <td>-1.246089</td>\n      <td>1.202272</td>\n      <td>-0.222326</td>\n    </tr>\n    <tr>\n      <th>3</th>\n      <td>2.152957</td>\n      <td>-0.419678</td>\n      <td>2.294842</td>\n      <td>-2.594487</td>\n      <td>2.822756</td>\n      <td>-0.222326</td>\n    </tr>\n    <tr>\n      <th>4</th>\n      <td>2.152957</td>\n      <td>-1.976254</td>\n      <td>0.533340</td>\n      <td>-0.290870</td>\n      <td>-0.513520</td>\n      <td>-0.222326</td>\n    </tr>\n    <tr>\n      <th>5</th>\n      <td>2.152957</td>\n      <td>-1.839905</td>\n      <td>1.607671</td>\n      <td>0.388292</td>\n      <td>0.399732</td>\n      <td>0.405477</td>\n    </tr>\n  </tbody>\n</table>\n</div>"
     },
     "metadata": {},
     "execution_count": 10
    }
   ],
   "source": [
    "#fill like neiborrs\n",
    "fill_df = df_obj.fillna(method=\"ffill\")\n",
    "fill_df"
   ]
  },
  {
   "cell_type": "markdown",
   "metadata": {},
   "source": [
    "### Counting missing values"
   ]
  },
  {
   "cell_type": "code",
   "execution_count": 13,
   "metadata": {},
   "outputs": [
    {
     "output_type": "execute_result",
     "data": {
      "text/plain": "          0         1         2         3         4         5\n0  0.870124  0.582277  0.278839  0.185911  0.411100  0.117376\n1  0.684969  0.437611  0.556229  0.367080  0.402366       NaN\n2  0.447031  0.585445  0.161985  0.520719  0.326051       NaN\n3       NaN  0.836375  0.481343  0.516502  0.383048       NaN\n4       NaN  0.559053  0.034450  0.719930  0.421004       NaN\n5       NaN  0.900274  0.669612  0.456069  0.289804  0.525819",
      "text/html": "<div>\n<style scoped>\n    .dataframe tbody tr th:only-of-type {\n        vertical-align: middle;\n    }\n\n    .dataframe tbody tr th {\n        vertical-align: top;\n    }\n\n    .dataframe thead th {\n        text-align: right;\n    }\n</style>\n<table border=\"1\" class=\"dataframe\">\n  <thead>\n    <tr style=\"text-align: right;\">\n      <th></th>\n      <th>0</th>\n      <th>1</th>\n      <th>2</th>\n      <th>3</th>\n      <th>4</th>\n      <th>5</th>\n    </tr>\n  </thead>\n  <tbody>\n    <tr>\n      <th>0</th>\n      <td>0.870124</td>\n      <td>0.582277</td>\n      <td>0.278839</td>\n      <td>0.185911</td>\n      <td>0.411100</td>\n      <td>0.117376</td>\n    </tr>\n    <tr>\n      <th>1</th>\n      <td>0.684969</td>\n      <td>0.437611</td>\n      <td>0.556229</td>\n      <td>0.367080</td>\n      <td>0.402366</td>\n      <td>NaN</td>\n    </tr>\n    <tr>\n      <th>2</th>\n      <td>0.447031</td>\n      <td>0.585445</td>\n      <td>0.161985</td>\n      <td>0.520719</td>\n      <td>0.326051</td>\n      <td>NaN</td>\n    </tr>\n    <tr>\n      <th>3</th>\n      <td>NaN</td>\n      <td>0.836375</td>\n      <td>0.481343</td>\n      <td>0.516502</td>\n      <td>0.383048</td>\n      <td>NaN</td>\n    </tr>\n    <tr>\n      <th>4</th>\n      <td>NaN</td>\n      <td>0.559053</td>\n      <td>0.034450</td>\n      <td>0.719930</td>\n      <td>0.421004</td>\n      <td>NaN</td>\n    </tr>\n    <tr>\n      <th>5</th>\n      <td>NaN</td>\n      <td>0.900274</td>\n      <td>0.669612</td>\n      <td>0.456069</td>\n      <td>0.289804</td>\n      <td>0.525819</td>\n    </tr>\n  </tbody>\n</table>\n</div>"
     },
     "metadata": {},
     "execution_count": 13
    }
   ],
   "source": [
    "np.random.seed(25)\n",
    "df_obj = DataFrame(np.random.rand(36).reshape(6,6))\n",
    "df_obj.loc[3:5,0] = missing\n",
    "df_obj.loc[1:4,5] = missing\n",
    "df_obj"
   ]
  },
  {
   "cell_type": "code",
   "execution_count": 15,
   "metadata": {},
   "outputs": [
    {
     "output_type": "execute_result",
     "data": {
      "text/plain": "0    3\n1    0\n2    0\n3    0\n4    0\n5    4\ndtype: int64"
     },
     "metadata": {},
     "execution_count": 15
    }
   ],
   "source": [
    "# count null by column\n",
    "df_obj.isnull().sum()"
   ]
  },
  {
   "cell_type": "markdown",
   "metadata": {},
   "source": [
    "### Filtering out missing values"
   ]
  },
  {
   "cell_type": "code",
   "execution_count": 16,
   "metadata": {},
   "outputs": [
    {
     "output_type": "execute_result",
     "data": {
      "text/plain": "          0         1         2         3       4         5\n0  0.870124  0.582277  0.278839  0.185911  0.4111  0.117376",
      "text/html": "<div>\n<style scoped>\n    .dataframe tbody tr th:only-of-type {\n        vertical-align: middle;\n    }\n\n    .dataframe tbody tr th {\n        vertical-align: top;\n    }\n\n    .dataframe thead th {\n        text-align: right;\n    }\n</style>\n<table border=\"1\" class=\"dataframe\">\n  <thead>\n    <tr style=\"text-align: right;\">\n      <th></th>\n      <th>0</th>\n      <th>1</th>\n      <th>2</th>\n      <th>3</th>\n      <th>4</th>\n      <th>5</th>\n    </tr>\n  </thead>\n  <tbody>\n    <tr>\n      <th>0</th>\n      <td>0.870124</td>\n      <td>0.582277</td>\n      <td>0.278839</td>\n      <td>0.185911</td>\n      <td>0.4111</td>\n      <td>0.117376</td>\n    </tr>\n  </tbody>\n</table>\n</div>"
     },
     "metadata": {},
     "execution_count": 16
    }
   ],
   "source": [
    "#Drop null ROWS\n",
    "df_no_NaN = df_obj.dropna()\n",
    "df_no_NaN"
   ]
  },
  {
   "cell_type": "code",
   "execution_count": 17,
   "metadata": {},
   "outputs": [
    {
     "output_type": "execute_result",
     "data": {
      "text/plain": "          1         2         3         4\n0  0.582277  0.278839  0.185911  0.411100\n1  0.437611  0.556229  0.367080  0.402366\n2  0.585445  0.161985  0.520719  0.326051\n3  0.836375  0.481343  0.516502  0.383048\n4  0.559053  0.034450  0.719930  0.421004\n5  0.900274  0.669612  0.456069  0.289804",
      "text/html": "<div>\n<style scoped>\n    .dataframe tbody tr th:only-of-type {\n        vertical-align: middle;\n    }\n\n    .dataframe tbody tr th {\n        vertical-align: top;\n    }\n\n    .dataframe thead th {\n        text-align: right;\n    }\n</style>\n<table border=\"1\" class=\"dataframe\">\n  <thead>\n    <tr style=\"text-align: right;\">\n      <th></th>\n      <th>1</th>\n      <th>2</th>\n      <th>3</th>\n      <th>4</th>\n    </tr>\n  </thead>\n  <tbody>\n    <tr>\n      <th>0</th>\n      <td>0.582277</td>\n      <td>0.278839</td>\n      <td>0.185911</td>\n      <td>0.411100</td>\n    </tr>\n    <tr>\n      <th>1</th>\n      <td>0.437611</td>\n      <td>0.556229</td>\n      <td>0.367080</td>\n      <td>0.402366</td>\n    </tr>\n    <tr>\n      <th>2</th>\n      <td>0.585445</td>\n      <td>0.161985</td>\n      <td>0.520719</td>\n      <td>0.326051</td>\n    </tr>\n    <tr>\n      <th>3</th>\n      <td>0.836375</td>\n      <td>0.481343</td>\n      <td>0.516502</td>\n      <td>0.383048</td>\n    </tr>\n    <tr>\n      <th>4</th>\n      <td>0.559053</td>\n      <td>0.034450</td>\n      <td>0.719930</td>\n      <td>0.421004</td>\n    </tr>\n    <tr>\n      <th>5</th>\n      <td>0.900274</td>\n      <td>0.669612</td>\n      <td>0.456069</td>\n      <td>0.289804</td>\n    </tr>\n  </tbody>\n</table>\n</div>"
     },
     "metadata": {},
     "execution_count": 17
    }
   ],
   "source": [
    "#Drop null Column\n",
    "df_no_NaN = df_obj.dropna(axis=1)\n",
    "df_no_NaN"
   ]
  }
 ],
 "metadata": {
  "anaconda-cloud": {},
  "kernelspec": {
   "display_name": "Python 3",
   "language": "python",
   "name": "python3"
  },
  "language_info": {
   "codemirror_mode": {
    "name": "ipython",
    "version": 3
   },
   "file_extension": ".py",
   "mimetype": "text/x-python",
   "name": "python",
   "nbconvert_exporter": "python",
   "pygments_lexer": "ipython3",
   "version": "3.7.6-final"
  }
 },
 "nbformat": 4,
 "nbformat_minor": 1
}