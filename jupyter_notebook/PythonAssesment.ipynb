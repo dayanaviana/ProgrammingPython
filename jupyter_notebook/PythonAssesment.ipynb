{
 "nbformat": 4,
 "nbformat_minor": 2,
 "metadata": {
  "language_info": {
   "name": "python",
   "codemirror_mode": {
    "name": "ipython",
    "version": 3
   },
   "version": "3.7.6-final"
  },
  "orig_nbformat": 2,
  "file_extension": ".py",
  "mimetype": "text/x-python",
  "name": "python",
  "npconvert_exporter": "python",
  "pygments_lexer": "ipython3",
  "version": 3,
  "kernelspec": {
   "name": "python3",
   "display_name": "Python 3"
  }
 },
 "cells": [
  {
   "cell_type": "code",
   "execution_count": 23,
   "metadata": {},
   "outputs": [],
   "source": [
    "from bs4 import BeautifulSoup\n",
    "import urllib.request\n",
    "import re\n",
    "\n",
    "import pandas as pd"
   ]
  },
  {
   "cell_type": "code",
   "execution_count": 24,
   "metadata": {},
   "outputs": [],
   "source": [
    "html_page = urllib.request.urlopen('https://www.census.gov/programs-surveys/popest.html').read()\n",
    "soup = BeautifulSoup(html_page, \"lxml\")"
   ]
  },
  {
   "cell_type": "code",
   "execution_count": 5,
   "metadata": {},
   "outputs": [
    {
     "output_type": "stream",
     "name": "stdout",
     "text": "<!DOCTYPE html PUBLIC \"-//W3C//DTD XHTML 1.0 Strict//EN\" \"http://www.w3.org/TR/xhtml1/DTD/xhtml1-strict.dtd\">\n<html lang=\"en\" xml:lang=\"en\" xmlns=\"http://www.w3.org/1999/xhtml\">\n <head>\n  <!--[if lt IE 9]><meta http-equiv=\"X-UA-Compatible\" content=\"IE=EmulateIE8\"  /><![endif]-->\n  <!--[if gte IE 9]><meta http-equiv=\"X-UA-Compatible\" content=\"IE=edge\"> <![endif]-->\n  <meta content=\"text/html; charset=utf-8\" http-equiv=\"Content-Type\"/>\n  <link href=\"/etc/designs/census/bootstrap.css\" rel=\"stylesheet\" type=\"text/css\"/>\n  <link href=\"/etc/designs/census/jquery.css\" rel=\"stylesheet\" type=\"text/css\"/>\n  <link href=\"/etc/designs/census/clientlibs.css\" rel=\"stylesheet\" type=\"text/css\"/>\n  <link href=\"/etc.clientlibs/census-core/clientlibs.css\" rel=\"stylesheet\" type=\"text/css\"/>\n  <link href=\"/etc.clientlibs/census/clientlibs/core-overrides.css\" rel=\"stylesheet\" type=\"text/css\"/>\n  <link href=\"/etc/designs/census/images/icons/android-chrome-192x192.png\" rel=\"icon\" sizes=\"192x192\"/>\n  <link href\n"
    }
   ],
   "source": [
    "print(soup.prettify()[:1000])"
   ]
  },
  {
   "cell_type": "code",
   "execution_count": 13,
   "metadata": {
    "tags": [
     "outputPrepend"
    ]
   },
   "outputs": [
    {
     "output_type": "stream",
     "name": "stdout",
     "text": "https://www.census.gov/en.html,\n \nhttps://www.census.gov/topics/population/age-and-sex.html,\n \nhttps://www.census.gov/businessandeconomy,\n \nhttps://www.census.gov/topics/education.html,\n \nhttps://www.census.gov/topics/preparedness.html,\n \nhttps://www.census.gov/topics/employment.html,\n \nhttps://www.census.gov/topics/families.html,\n \nhttps://www.census.gov/topics/population/migration.html,\n \nhttps://www.census.gov/geo,\n \nhttps://www.census.gov/topics/health.html,\n \nhttps://www.census.gov/topics/population/hispanic-origin.html,\n \nhttps://www.census.gov/topics/housing.html,\n \nhttps://www.census.gov/topics/income-poverty.html,\n \nhttps://www.census.gov/topics/international-trade.html,\n \nhttps://www.census.gov/topics/population.html,\n \nhttps://www.census.gov/topics/population/population-estimates.html,\n \nhttps://www.census.gov/topics/public-sector.html,\n \nhttps://www.census.gov/topics/population/race.html,\n \nhttps://www.census.gov/topics/research.html,\n \nhttps://www.census.gov/topics/public-sector/voting.html,\n \nhttps://www.census.gov/about/index.html,\n \nhttps://www.census.gov/data,\n \nhttps://www.census.gov/academy,\n \nhttps://www.census.gov/about/what/admin-data.html,\n \nhttps://www.census.gov/data/data-tools.html,\n \nhttps://www.census.gov/developers/,\n \nhttps://www.census.gov/data/experimental-data-products.html,\n \nhttps://www.census.gov/data/related-sites.html,\n \nhttps://www.census.gov/data/software.html,\n \nhttps://www.census.gov/data/tables.html,\n \nhttps://www.census.gov/data/training-workshops.html,\n \nhttps://www.census.gov/library/visualizations.html,\n \nhttps://www.census.gov/library.html,\n \nhttps://www.census.gov/AmericaCounts,\n \nhttps://www.census.gov/library/audio.html,\n \nhttps://www.census.gov/library/fact-sheets.html,\n \nhttps://www.census.gov/library/visualizations.html,\n \nhttps://www.census.gov/library/photos.html,\n \nhttps://www.census.gov/library/publications.html,\n \nhttps://www.census.gov/library/video.html,\n \nhttps://www.census.gov/library/working-papers.html,\n \nhttps://www.census.gov/programs-surveys/are-you-in-a-survey.html,\n \nhttps://www.census.gov/programs-surveys/decennial-census/2020census-redirect.html,\n \nhttps://www.census.gov/2020census,\n \nhttps://www.census.gov/programs-surveys/acs,\n \nhttps://www.census.gov/programs-surveys/ahs.html,\n \nhttps://www.census.gov/programs-surveys/abs.html,\n \nhttps://www.census.gov/programs-surveys/asm.html,\n \nhttps://www.census.gov/programs-surveys/cog.html,\n \nhttps://www.census.gov/programs-surveys/cbp.html,\n \nhttps://www.census.gov/programs-surveys/cps.html,\n \nhttps://www.census.gov/EconomicCensus,\n \nhttps://www.census.gov/internationalprograms,\n \nhttps://www.census.gov/programs-surveys/metro-micro.html,\n \nhttps://www.census.gov/popest,\n \nhttps://www.census.gov/programs-surveys/popproj.html,\n \nhttps://www.census.gov/programs-surveys/saipe.html,\n \nhttps://www.census.gov/programs-surveys/susb.html,\n \nhttps://www.census.gov/programs-surveys/sbo.html,\n \nhttps://www.census.gov/sipp/,\n \nhttps://www.census.gov/programs-surveys/surveys-programs.html,\n \nhttps://www.census.gov/newsroom.html,\n \nhttps://www.census.gov/programs-surveys/are-you-in-a-survey.html,\n \nhttps://www.census.gov/partners,\n \nhttps://www.census.gov/programs-surveys/sis.html,\n \nhttps://www.census.gov/NAICS,\n \nhttps://www.census.gov/library/reference/code-lists/schedule/b.html,\n \nhttps://www.census.gov/data/developers/data-sets/Geocoding-services.html,\n \nhttps://www.census.gov/about-us,\n \nhttps://www.census.gov/about/who.html,\n \nhttps://www.census.gov/about/what.html,\n \nhttps://www.census.gov/about/business-opportunities.html,\n \nhttps://www.census.gov/careers,\n \nhttps://www.census.gov/fieldjobs,\n \nhttps://www.census.gov/about/what/admin-data.html,\n \nhttps://www.census.gov/about/history.html,\n \nhttps://www.census.gov/about/policies.html,\n \nhttps://www.census.gov/privacy,\n \nhttps://www.census.gov/regions,\n \nhttps://www.census.gov/about/contact-us/staff-finder.html,\n \nhttps://www.census.gov/about/contact-us.html,\n \nhttps://www.census.gov/about/faqs.html,\n \nhttps://www.commerce.gov/,\n \nhttps://www.census.gov/topics/population/age-and-sex.html,\n \nhttps://www.census.gov/businessandeconomy,\n \nhttps://www.census.gov/topics/education.html,\n \nhttps://www.census.gov/topics/preparedness.html,\n \nhttps://www.census.gov/topics/employment.html,\n \nhttps://www.census.gov/topics/families.html,\n \nhttps://www.census.gov/topics/population/migration.html,\n \nhttps://www.census.gov/geo,\n \nhttps://www.census.gov/topics/health.html,\n \nhttps://www.census.gov/topics/population/hispanic-origin.html,\n \nhttps://www.census.gov/topics/housing.html,\n \nhttps://www.census.gov/topics/income-poverty.html,\n \nhttps://www.census.gov/topics/international-trade.html,\n \nhttps://www.census.gov/topics/population.html,\n \nhttps://www.census.gov/topics/population/population-estimates.html,\n \nhttps://www.census.gov/topics/public-sector.html,\n \nhttps://www.census.gov/topics/population/race.html,\n \nhttps://www.census.gov/topics/research.html,\n \nhttps://www.census.gov/topics/public-sector/voting.html,\n \nhttps://www.census.gov/about/index.html,\n \nhttps://www.census.gov/data,\n \nhttps://www.census.gov/academy,\n \nhttps://www.census.gov/about/what/admin-data.html,\n \nhttps://www.census.gov/data/data-tools.html,\n \nhttps://www.census.gov/developers/,\n \nhttps://www.census.gov/data/experimental-data-products.html,\n \nhttps://www.census.gov/data/related-sites.html,\n \nhttps://www.census.gov/data/software.html,\n \nhttps://www.census.gov/data/tables.html,\n \nhttps://www.census.gov/data/training-workshops.html,\n \nhttps://www.census.gov/library/visualizations.html,\n \nhttps://www.census.gov/library.html,\n \nhttps://www.census.gov/AmericaCounts,\n \nhttps://www.census.gov/library/audio.html,\n \nhttps://www.census.gov/library/fact-sheets.html,\n \nhttps://www.census.gov/library/visualizations.html,\n \nhttps://www.census.gov/library/photos.html,\n \nhttps://www.census.gov/library/publications.html,\n \nhttps://www.census.gov/library/video.html,\n \nhttps://www.census.gov/library/working-papers.html,\n \nhttps://www.census.gov/programs-surveys/are-you-in-a-survey.html,\n \nhttps://www.census.gov/programs-surveys/decennial-census/2020census-redirect.html,\n \nhttps://www.census.gov/2020census,\n \nhttps://www.census.gov/programs-surveys/acs,\n \nhttps://www.census.gov/programs-surveys/ahs.html,\n \nhttps://www.census.gov/programs-surveys/abs.html,\n \nhttps://www.census.gov/programs-surveys/asm.html,\n \nhttps://www.census.gov/programs-surveys/cog.html,\n \nhttps://www.census.gov/programs-surveys/cbp.html,\n \nhttps://www.census.gov/programs-surveys/cps.html,\n \nhttps://www.census.gov/EconomicCensus,\n \nhttps://www.census.gov/internationalprograms,\n \nhttps://www.census.gov/programs-surveys/metro-micro.html,\n \nhttps://www.census.gov/popest,\n \nhttps://www.census.gov/programs-surveys/popproj.html,\n \nhttps://www.census.gov/programs-surveys/saipe.html,\n \nhttps://www.census.gov/programs-surveys/susb.html,\n \nhttps://www.census.gov/programs-surveys/sbo.html,\n \nhttps://www.census.gov/sipp/,\n \nhttps://www.census.gov/programs-surveys/surveys-programs.html,\n \nhttps://www.census.gov/newsroom.html,\n \nhttps://www.census.gov/programs-surveys/are-you-in-a-survey.html,\n \nhttps://www.census.gov/partners,\n \nhttps://www.census.gov/programs-surveys/sis.html,\n \nhttps://www.census.gov/NAICS,\n \nhttps://www.census.gov/library/reference/code-lists/schedule/b.html,\n \nhttps://www.census.gov/data/developers/data-sets/Geocoding-services.html,\n \nhttps://www.census.gov/about-us,\n \nhttps://www.census.gov/about/who.html,\n \nhttps://www.census.gov/about/what.html,\n \nhttps://www.census.gov/about/business-opportunities.html,\n \nhttps://www.census.gov/careers,\n \nhttps://www.census.gov/fieldjobs,\n \nhttps://www.census.gov/about/what/admin-data.html,\n \nhttps://www.census.gov/about/history.html,\n \nhttps://www.census.gov/about/policies.html,\n \nhttps://www.census.gov/privacy,\n \nhttps://www.census.gov/regions,\n \nhttps://www.census.gov/about/contact-us/staff-finder.html,\n \nhttps://www.census.gov/about/contact-us.html,\n \nhttps://www.census.gov/about/faqs.html,\n \nhttps://www.census.gov/newsroom.html,\n \nhttps://www.census.gov/AmericaCounts,\n \nhttps://www.census.gov/newsroom/blogs.html,\n \nhttps://www.census.gov/newsroom/stories.html,\n \nhttps://www.facebook.com/uscensusbureau,\n \nhttps://twitter.com/uscensusbureau,\n \nhttps://www.linkedin.com/company/us-census-bureau,\n \nhttps://www.youtube.com/user/uscensusbureau,\n \nhttps://www.instagram.com/uscensusbureau/,\n \nhttps://www.census.gov/careers,\n \nhttps://www.census.gov/quality/,\n \nhttps://www.census.gov/datalinkage,\n \nhttps://www.census.gov/privacy,\n \nhttps://www.census.gov/about/policies/privacy/privacy-policy.html#accessibility,\n \nhttps://www.census.gov/foia,\n \nhttps://www.commerce.gov/,\n \nhttps://www.usa.gov/,\n \n"
    }
   ],
   "source": [
    "file = open(\"my_web_links.csv\", \"w\")\n",
    "for link in soup.findAll('a', attrs={'href': re.compile(\"^http\")}):\n",
    "    soup_link = str(link['href']) + \",\\n \"\n",
    "    print(soup_link)\n",
    "    file.write(soup_link)\n",
    "file.flush()\n",
    "file.close()"
   ]
  },
  {
   "cell_type": "code",
   "execution_count": null,
   "metadata": {},
   "outputs": [],
   "source": [
    "#https://www.w3schools.com/python/python_regex.asp\n",
    "\n",
    "#Split the string at every \"//\" character:\n",
    "txt = \"https://www.census.gov/library/visualizations.html/\"\n",
    "x = re.split(\"//\", txt,1)[1] #Split the string only at the first occurrence\n",
    "print(x)"
   ]
  },
  {
   "cell_type": "code",
   "execution_count": 22,
   "metadata": {},
   "outputs": [
    {
     "output_type": "stream",
     "name": "stdout",
     "text": "-5460941101147978046\n"
    }
   ],
   "source": [
    "txt = \"https://www.census.gov/library/visualizations.html/xxxxx\"\n",
    "print(hash(txt))"
   ]
  },
  {
   "cell_type": "code",
   "execution_count": 25,
   "metadata": {},
   "outputs": [
    {
     "output_type": "execute_result",
     "data": {
      "text/plain": "pandas.core.series.Series"
     },
     "metadata": {},
     "execution_count": 25
    }
   ],
   "source": [
    "links_series = pd.Series()\n",
    "type(links_series)"
   ]
  },
  {
   "cell_type": "code",
   "execution_count": 123,
   "metadata": {},
   "outputs": [],
   "source": [
    "links_series = pd.Series()\n",
    "for link in soup.findAll('a', attrs={'href': re.compile(\"^http\")}):\n",
    "    soup_link = str(link['href'])\n",
    "    soup_link = re.split(\"//\", soup_link,1)[1]\n",
    "    new_link = pd.Series(soup_link, index=[hash(soup_link)])\n",
    "    try:\n",
    "        links_series = links_series.append(new_link, verify_integrity=True)\n",
    "    except:\n",
    "        pass\n",
    "\n",
    "file = open(\"my_web_links1.csv\", \"w\")\n",
    "file.write(links_series.to_csv())\n",
    "file.flush()    \n",
    "file.close()"
   ]
  },
  {
   "cell_type": "markdown",
   "metadata": {},
   "source": [
    "## data frame to text\n",
    "https://stackoverflow.com/questions/48831802/outputting-pandas-series-to-txt-file/48832218"
   ]
  },
  {
   "cell_type": "code",
   "execution_count": 114,
   "metadata": {},
   "outputs": [
    {
     "output_type": "stream",
     "name": "stdout",
     "text": "An exception occurred\n"
    }
   ],
   "source": [
    "try:\n",
    "  print(z)\n",
    "except:\n",
    "  print(\"An exception occurred\")"
   ]
  },
  {
   "cell_type": "code",
   "execution_count": null,
   "metadata": {},
   "outputs": [],
   "source": []
  }
 ]
}